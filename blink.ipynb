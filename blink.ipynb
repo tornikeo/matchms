{
 "cells": [
  {
   "cell_type": "code",
   "execution_count": 1,
   "metadata": {},
   "outputs": [],
   "source": [
    "from typing import List\n",
    "import numpy as np\n",
    "from matchms.typing import SpectrumType\n",
    "from matchms.similarity.BaseSimilarity import BaseSimilarity\n",
    "from matchms.similarity.spectrum_similarity_functions import (collect_peak_pairs,\n",
    "                                            score_best_matches)\n",
    "\n",
    "\n",
    "class Blink(BaseSimilarity):\n",
    "    # Set key characteristics as class attributes\n",
    "    is_commutative = True\n",
    "    # Set output data type, e.g. (\"score\", \"float\") or [(\"score\", \"float\"), (\"matches\", \"int\")]\n",
    "    score_datatype = [(\"score\", np.float64), (\"matches\", \"int\")]\n",
    "\n",
    "    def __init__(self, \n",
    "        tolerance: float = 0.01, \n",
    "        bin_width: float = 0.01,\n",
    "        mz_power: float = 0.0,\n",
    "        intensity_power: float = 1.0):\n",
    "        \"\"\"\n",
    "        Parameters\n",
    "        ----------\n",
    "        tolerance:\n",
    "            Peaks will be considered a match when <= tolerance apart. Default is 0.1.\n",
    "        mz_power:\n",
    "            The power to raise m/z to in the cosine function. The default is 0, in which\n",
    "            case the peak intensity products will not depend on the m/z ratios.\n",
    "        intensity_power:\n",
    "            The power to raise intensity to in the cosine function. The default is 1.\n",
    "        \"\"\"\n",
    "        self.tolerance = tolerance\n",
    "        self.bin_width = bin_width\n",
    "        self.mz_power = mz_power\n",
    "        self.intensity_power = intensity_power\n",
    "\n",
    "    def matrix(self, references: List[SpectrumType], queries: List[SpectrumType]):\n",
    "\n",
    "        mzi_v1 = discretized_spectra['s1']['mzi'].T\n",
    "        mzc_v1 = discretized_spectra['s1']['mzc'].T\n",
    "\n",
    "        mzi_v2 = discretized_spectra['s2']['mzi']\n",
    "        mzc_v2 = discretized_spectra['s2']['mzc']\n",
    "        \n",
    "        mzi_scores = mzi_v1 @ mzi_v2\n",
    "        mzc_counts = mzc_v1 @ mzc_v2\n",
    "        pass"
   ]
  },
  {
   "cell_type": "code",
   "execution_count": 2,
   "metadata": {},
   "outputs": [],
   "source": [
    "from matchms.importing import load_spectra\n",
    "\n",
    "specs = tuple(load_spectra('tests/testdata/pesticides.mgf'))"
   ]
  },
  {
   "cell_type": "code",
   "execution_count": 34,
   "metadata": {},
   "outputs": [],
   "source": [
    "from scipy.sparse import coo_matrix\n",
    "from math import ceil\n",
    "bin_width = 0.001\n",
    "mzis_s1 = [\n",
    "    spec.peaks.to_numpy.T\n",
    "    for spec in specs\n",
    "]\n",
    "mzis_s2 = [\n",
    "    spec.peaks.to_numpy.T\n",
    "    for spec in specs\n",
    "]\n",
    "\n",
    "# mat = coo_matrix((disc_mz, (i, j)))\n",
    "n_spec = len(mzis_s1)\n",
    "n_bins = ceil(max([max(mz) for mz, ints in mzis_s1]) / bin_width)\n",
    "# spec_bins\n",
    "m1 = coo_matrix((n_spec, n_bins + 2), dtype=np.float32).todok()\n",
    "# n_spec, spec_bins\n",
    "# disc_mz = []\n",
    "for i, (mz, ints) in enumerate(mzis_s1):\n",
    "    disc_mz = 1 + (mz / bin_width).round().astype(np.int32)\n",
    "    ints = ints / ints.sum()\n",
    "    m1[i, disc_mz] = ints\n",
    "    m1[i, disc_mz + 1] = ints \n",
    "    m1[i, disc_mz - 1] = ints \n",
    "m1 = m1.tocoo()\n",
    "\n",
    "m2 = coo_matrix((n_spec, n_bins + 2), dtype=np.float32).todok()\n",
    "for i, (mz, ints) in enumerate(mzis_s2):\n",
    "    disc_mz = 1 + (mz / bin_width).round().astype(np.int32)\n",
    "    ints = ints / ints.sum()\n",
    "    m2[i, disc_mz] = ints\n",
    "    m2[i, disc_mz + 1] = ints\n",
    "    m2[i, disc_mz - 1] = ints\n",
    "m2 = m2.tocoo()\n",
    "# mat\n",
    "#     disc_mz.append(\n",
    "\n",
    "#     break\n",
    "# # mz, ints = mzis_s1[0].T\n",
    "# # mz, ints\n",
    "\n",
    "\n",
    "\n",
    "# # data = np.arange(10)\n",
    "# # i, j = np.arange(10), np.arange(10)\n",
    "# # mat = coo_matrix((data, (i, j)), shape=(10,10))\n",
    "# # mat.todense()\n",
    "# disc_mz\n",
    "# mz, ints"
   ]
  },
  {
   "cell_type": "code",
   "execution_count": 35,
   "metadata": {},
   "outputs": [],
   "source": [
    "import matplotlib.pyplot as plt\n",
    "scores = m1.dot(m2.T)"
   ]
  },
  {
   "cell_type": "code",
   "execution_count": 36,
   "metadata": {},
   "outputs": [],
   "source": [
    "from matchms.similarity import CosineGreedy\n",
    "\n",
    "ref = CosineGreedy(tolerance=bin_width).matrix(specs, specs)"
   ]
  },
  {
   "cell_type": "code",
   "execution_count": 37,
   "metadata": {},
   "outputs": [
    {
     "data": {
      "text/plain": [
       "0.001"
      ]
     },
     "execution_count": 37,
     "metadata": {},
     "output_type": "execute_result"
    }
   ],
   "source": [
    "bin_width"
   ]
  },
  {
   "cell_type": "code",
   "execution_count": 38,
   "metadata": {},
   "outputs": [
    {
     "data": {
      "text/plain": [
       "(array([[1.00000000e+00, 0.00000000e+00, 0.00000000e+00, ...,\n",
       "         2.18111517e-05, 0.00000000e+00, 0.00000000e+00],\n",
       "        [0.00000000e+00, 1.00000000e+00, 0.00000000e+00, ...,\n",
       "         0.00000000e+00, 0.00000000e+00, 0.00000000e+00],\n",
       "        [0.00000000e+00, 0.00000000e+00, 1.00000000e+00, ...,\n",
       "         0.00000000e+00, 0.00000000e+00, 0.00000000e+00],\n",
       "        ...,\n",
       "        [2.18111517e-05, 0.00000000e+00, 0.00000000e+00, ...,\n",
       "         1.00000000e+00, 9.71423968e-01, 0.00000000e+00],\n",
       "        [0.00000000e+00, 0.00000000e+00, 0.00000000e+00, ...,\n",
       "         9.71423968e-01, 1.00000000e+00, 0.00000000e+00],\n",
       "        [0.00000000e+00, 0.00000000e+00, 0.00000000e+00, ...,\n",
       "         0.00000000e+00, 0.00000000e+00, 1.00000000e+00]]),\n",
       " matrix([[1.3154771e+00, 0.0000000e+00, 0.0000000e+00, ..., 2.8311149e-05,\n",
       "          0.0000000e+00, 0.0000000e+00],\n",
       "         [0.0000000e+00, 1.6496096e+00, 0.0000000e+00, ..., 0.0000000e+00,\n",
       "          0.0000000e+00, 0.0000000e+00],\n",
       "         [0.0000000e+00, 0.0000000e+00, 3.1134194e-01, ..., 0.0000000e+00,\n",
       "          0.0000000e+00, 5.4187030e-03],\n",
       "         ...,\n",
       "         [2.8311149e-05, 0.0000000e+00, 0.0000000e+00, ..., 1.2802813e+00,\n",
       "          1.2686218e+00, 0.0000000e+00],\n",
       "         [0.0000000e+00, 0.0000000e+00, 0.0000000e+00, ..., 1.2686218e+00,\n",
       "          1.2859335e+00, 0.0000000e+00],\n",
       "         [0.0000000e+00, 0.0000000e+00, 5.4187030e-03, ..., 0.0000000e+00,\n",
       "          0.0000000e+00, 5.3872359e-01]], dtype=float32))"
      ]
     },
     "execution_count": 38,
     "metadata": {},
     "output_type": "execute_result"
    },
    {
     "data": {
      "image/png": "[encoded data removed]",
      "text/plain": [
       "<Figure size 640x480 with 2 Axes>"
      ]
     },
     "metadata": {},
     "output_type": "display_data"
    }
   ],
   "source": [
    "plt.subplot(121)\n",
    "plt.imshow(ref['score'])\n",
    "plt.subplot(122)\n",
    "plt.imshow(scores.todense())\n",
    "\n",
    "ref['score'], scores.todense()"
   ]
  },
  {
   "cell_type": "code",
   "execution_count": 13,
   "metadata": {},
   "outputs": [
    {
     "data": {
      "text/plain": [
       "matrix([[4.3866310e-01, 0.0000000e+00, 0.0000000e+00, ..., 9.4370498e-06,\n",
       "         0.0000000e+00, 0.0000000e+00],\n",
       "        [0.0000000e+00, 5.4987001e-01, 0.0000000e+00, ..., 0.0000000e+00,\n",
       "         0.0000000e+00, 0.0000000e+00],\n",
       "        [0.0000000e+00, 0.0000000e+00, 1.0378064e-01, ..., 0.0000000e+00,\n",
       "         0.0000000e+00, 0.0000000e+00],\n",
       "        ...,\n",
       "        [9.4370498e-06, 0.0000000e+00, 0.0000000e+00, ..., 4.2676049e-01,\n",
       "         4.1546312e-01, 0.0000000e+00],\n",
       "        [0.0000000e+00, 0.0000000e+00, 0.0000000e+00, ..., 4.1546312e-01,\n",
       "         4.2864454e-01, 0.0000000e+00],\n",
       "        [0.0000000e+00, 0.0000000e+00, 0.0000000e+00, ..., 0.0000000e+00,\n",
       "         0.0000000e+00, 1.7957962e-01]], dtype=float32)"
      ]
     },
     "execution_count": 13,
     "metadata": {},
     "output_type": "execute_result"
    }
   ],
   "source": [
    "scores.todense()"
   ]
  },
  {
   "cell_type": "code",
   "execution_count": 9,
   "metadata": {},
   "outputs": [
    {
     "data": {
      "text/plain": [
       "((76, 975846), (975846, 76))"
      ]
     },
     "execution_count": 9,
     "metadata": {},
     "output_type": "execute_result"
    }
   ],
   "source": [
    "m1.shape, m2.T.shape"
   ]
  },
  {
   "cell_type": "code",
   "execution_count": 10,
   "metadata": {},
   "outputs": [],
   "source": [
    "mzis_s1 = [\n",
    "    spec.peaks.to_numpy\n",
    "    for spec in specs\n",
    "]\n",
    "mzis_s2 = [\n",
    "    spec.peaks.to_numpy\n",
    "    for spec in specs\n",
    "]\n",
    "precursor_mzs_s1 = [\n",
    "    spec.get('precursor_mz')\n",
    "    for spec in specs\n",
    "]\n",
    "precursor_mzs_s2 = [\n",
    "    spec.get('precursor_mz')\n",
    "    for spec in specs\n",
    "]\n",
    "# precursor_mzs_s2,\n",
    "# mzis_s1"
   ]
  },
  {
   "cell_type": "code",
   "execution_count": 11,
   "metadata": {},
   "outputs": [
    {
     "ename": "NameError",
     "evalue": "name 'mass_diffs' is not defined",
     "output_type": "error",
     "traceback": [
      "\u001b[0;31m---------------------------------------------------------------------------\u001b[0m",
      "\u001b[0;31mNameError\u001b[0m                                 Traceback (most recent call last)",
      "Cell \u001b[0;32mIn[11], line 83\u001b[0m\n\u001b[1;32m     81\u001b[0m n_mzis_s1 \u001b[38;5;241m=\u001b[39m _normalize_spectra(mzis_s1, bin_width, intensity_power, )\n\u001b[1;32m     82\u001b[0m n_mzis_s2 \u001b[38;5;241m=\u001b[39m _normalize_spectra(mzis_s2, bin_width, intensity_power, )\n\u001b[0;32m---> 83\u001b[0m discretized_spectra \u001b[38;5;241m=\u001b[39m _build_matrices(n_mzis_s1, n_mzis_s2, tolerance, bin_width, \u001b[43mmass_diffs\u001b[49m)\n\u001b[1;32m     85\u001b[0m \u001b[38;5;66;03m# discretized_spectra = _build_matrices(n_mzis_s1, n_mzis_s2, tolerance, bin_width, mass_diffs)\u001b[39;00m\n",
      "\u001b[0;31mNameError\u001b[0m: name 'mass_diffs' is not defined"
     ]
    }
   ],
   "source": [
    "bin_width = 0.01\n",
    "tolerance = 0.01\n",
    "intensity_power = 1.\n",
    "# mz_power\n",
    "trim_empty = False\n",
    "remove_duplicates = False\n",
    "\n",
    "def _bin_mzs(mzis, bin_width):\n",
    "    \"\"\"bins m/z values based on bin width\"\"\"\n",
    "    mz_bins = np.rint(mzis[0]/bin_width).astype(int)\n",
    "    return mz_bins\n",
    "\n",
    "def _array_spec_ids(mzis):\n",
    "    \"\"\"arrays spectral ids such that each m/z bin is associate with an id\"\"\"\n",
    "    spec_ids = np.concatenate([[i]*mzi.shape[1] for i,mzi in enumerate(mzis)]).astype(int)\n",
    "    return spec_ids\n",
    "\n",
    "def _calc_intensity_norm(mzis, intensity_power):\n",
    "    \"\"\"returns the intensity vector norm for each spectrum\"\"\"\n",
    "    inorm = np.array([1.0/np.linalg.norm(mzi[1]**intensity_power) for mzi in mzis])\n",
    "    return inorm\n",
    "\n",
    "from dataclasses import dataclass\n",
    "@dataclass\n",
    "class NormSpec:\n",
    "    spec_ids: np.ndarray\n",
    "    mz_bins: np.ndarray\n",
    "    normalized_intensities: np.ndarray\n",
    "    counts: np.ndarray\n",
    "\n",
    "def _normalize_spectra(mzis, bin_width, intensity_power) -> NormSpec:\n",
    "    mzis = [mzi.T for mzi in mzis] # No filtering here\n",
    "    # print()\n",
    "    num_ions = [mzi.shape[1] for mzi in mzis]\n",
    "    spec_ids = _array_spec_ids(mzis)\n",
    "    inorm = _calc_intensity_norm(mzis, intensity_power)\n",
    "    cnorm = np.ones(len(mzis))\n",
    "    # print(len(num_ions), num_ions)\n",
    "    # print(len(spec_ids), spec_ids)\n",
    "    mzis = np.concatenate(mzis, axis=1)\n",
    "    mzis[1] = mzis[1]**intensity_power\n",
    "    normalized_intensities = inorm[spec_ids] * mzis[1]\n",
    "    counts = cnorm[spec_ids].astype(int)\n",
    "    mz_bins = _bin_mzs(mzis, bin_width)\n",
    "    # print(len(mz_bins), mz_bins)\n",
    "    return NormSpec(\n",
    "        spec_ids=spec_ids,\n",
    "        mz_bins=mz_bins,\n",
    "        normalized_intensities=normalized_intensities,\n",
    "        counts=counts,\n",
    "    )\n",
    "\n",
    "\n",
    "def _network_kernel(d_spec, tolerance, bin_width):\n",
    "    \"\"\"\n",
    "    expand bins to have tolerance\n",
    "    \"\"\"\n",
    "    bin_num = int(2*(tolerance/bin_width)-1)\n",
    "    tol_matrix = np.arange(-bin_num//2+1, bin_num//2+1).flatten()\n",
    "    \n",
    "    d_spec['normalized_intensities'] = np.add.outer(d_spec['normalized_intensities'], np.zeros_like(tol_matrix)).flatten()\n",
    "    d_spec['counts'] = np.add.outer(d_spec['counts'], np.zeros_like(tol_matrix)).flatten()\n",
    "    d_spec['spec_ids'] = np.add.outer(d_spec['spec_ids'], np.zeros_like(tol_matrix)).flatten()\n",
    "    d_spec['mz_bins'] = np.add.outer(d_spec['mz_bins'], tol_matrix).flatten()\n",
    "    \n",
    "def _build_matrices(n_mzis_s1, n_mzis_s2, tolerance, bin_width, mass_diffs):\n",
    "    \n",
    "    _network_kernel(n_mzis_s1, tolerance, bin_width) \n",
    "\n",
    "    _shift_bins(n_mzis_s1, n_mzis_s2)\n",
    "    max_mz = _calc_max_mz(n_mzis_s1, n_mzis_s2, mass_diffs, bin_width)\n",
    "    \n",
    "    s1_mz_m_i, s1_mz_m_c = _construct_sparse_matrices(n_mzis_s1, 'mz_bins', max_mz)\n",
    "    s2_mz_m_i, s2_mz_m_c = _construct_sparse_matrices(n_mzis_s2, 'mz_bins', max_mz)\n",
    "    \n",
    "    sparse_matrices = {'s1':{'mzi':s1_mz_m_i, 'mzc':s1_mz_m_c, 'metadata':n_mzis_s1['metadata']},\n",
    "                              's2':{'mzi':s2_mz_m_i, 'mzc':s2_mz_m_c, 'metadata':n_mzis_s2['metadata']}}\n",
    "    \n",
    "    return sparse_matrices\n",
    "\n",
    "n_mzis_s1 = _normalize_spectra(mzis_s1, bin_width, intensity_power, )\n",
    "n_mzis_s2 = _normalize_spectra(mzis_s2, bin_width, intensity_power, )\n",
    "discretized_spectra = _build_matrices(n_mzis_s1, n_mzis_s2, tolerance, bin_width, mass_diffs)\n",
    "\n",
    "# discretized_spectra = _build_matrices(n_mzis_s1, n_mzis_s2, tolerance, bin_width, mass_diffs)"
   ]
  },
  {
   "cell_type": "code",
   "execution_count": null,
   "metadata": {},
   "outputs": [],
   "source": [
    "# discretized_spectra = blink.discretize_spectra(mzml.spectrum.tolist(), mgf.spectrum.tolist(), mzml.precursor_mz.tolist(),  mgf.precursor_mz.tolist(),\n",
    "#                                          bin_width=0.001, tolerance=0.01, intensity_power=0.5, trim_empty=False, remove_duplicates=False, network_score=False)\n"
   ]
  }
 ],
 "metadata": {
  "kernelspec": {
   "display_name": "pb2",
   "language": "python",
   "name": "python3"
  },
  "language_info": {
   "codemirror_mode": {
    "name": "ipython",
    "version": 3
   },
   "file_extension": ".py",
   "mimetype": "text/x-python",
   "name": "python",
   "nbconvert_exporter": "python",
   "pygments_lexer": "ipython3",
   "version": "3.10.14"
  }
 },
 "nbformat": 4,
 "nbformat_minor": 2
}
